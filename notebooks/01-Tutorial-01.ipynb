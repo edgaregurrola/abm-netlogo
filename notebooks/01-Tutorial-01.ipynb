{
 "cells": [
  {
   "cell_type": "code",
   "execution_count": 1,
   "id": "b4ce2d23-96c2-463b-a54b-664d2b22d803",
   "metadata": {},
   "outputs": [],
   "source": [
    "%matplotlib inline\n",
    "\n",
    "import pandas as pd\n",
    "import matplotlib.pyplot as plt\n",
    "import seaborn as sns\n",
    "sns.set_style('white')\n",
    "sns.set_context('talk')\n",
    "\n",
    "import pyNetLogo"
   ]
  },
  {
   "cell_type": "code",
   "execution_count": 9,
   "id": "907a81fb-c26d-4f51-934e-154098f83cb0",
   "metadata": {},
   "outputs": [],
   "source": [
    "netlogo_home = '/home/edgar/Documents/NetLogo 6.2.2'\n",
    "netlogo_version = ['6']\n",
    "netlogo = pyNetLogo.NetLogoLink(netlogo_home = netlogo_home, gui=False)\n",
    "model_dir = '/home/edgar/Documents/NetLogo 6.2.2/app/models/Sample Models/Biology/'\n",
    "model_name = 'Wolf Sheep Predation.nlogo'\n",
    "netlogo.load_model(model_dir+model_name)\n",
    "netlogo.command('setup')"
   ]
  },
  {
   "cell_type": "code",
   "execution_count": null,
   "id": "b3576f35-98d5-49a1-9c34-1d76dcf0aa6c",
   "metadata": {},
   "outputs": [],
   "source": []
  }
 ],
 "metadata": {
  "kernelspec": {
   "display_name": "netlogo",
   "language": "python",
   "name": "netlogo"
  },
  "language_info": {
   "codemirror_mode": {
    "name": "ipython",
    "version": 3
   },
   "file_extension": ".py",
   "mimetype": "text/x-python",
   "name": "python",
   "nbconvert_exporter": "python",
   "pygments_lexer": "ipython3",
   "version": "3.10.2"
  }
 },
 "nbformat": 4,
 "nbformat_minor": 5
}
